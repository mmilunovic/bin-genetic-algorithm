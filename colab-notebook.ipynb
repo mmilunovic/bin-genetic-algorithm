{
  "nbformat": 4,
  "nbformat_minor": 0,
  "metadata": {
    "colab": {
      "name": "Genetski algoritmi-Domaci 1",
      "version": "0.3.2",
      "provenance": [],
      "collapsed_sections": []
    },
    "kernelspec": {
      "name": "python3",
      "display_name": "Python 3"
    }
  },
  "cells": [
    {
      "metadata": {
        "id": "jqpfQ-Zk9lJ-",
        "colab_type": "text"
      },
      "cell_type": "markdown",
      "source": [
        "# Prvo domaći iz Genetskih Algoritama\n",
        "\n",
        "\n",
        "## Miloš Milunović RN 17/2016 grupa 302\n",
        "\n",
        "\n",
        "---\n",
        "\n",
        "\n",
        "*   Binarni genetski algoritam\n",
        "*   Dvotačkasto ukrštanje\n",
        "*   Inverzija\n",
        "*   Levijeva funkcija broj 13\n",
        "\n",
        "\n",
        "\\begin{equation}\n",
        "f(x, y) = sin^2 3πx + (x − 1)^2(1 + sin^2 3πy) + (y − 1)^2(1 + sin^2 2πy) \\\\\n",
        "interval  -10 < x, y < 10, minimum f(1,1) = 0 \n",
        "\\end{equation}\n"
      ]
    },
    {
      "metadata": {
        "id": "2zoKa6nhAc1f",
        "colab_type": "text"
      },
      "cell_type": "markdown",
      "source": [
        "# 1. Biblioteke"
      ]
    },
    {
      "metadata": {
        "id": "QawUg0JZ-P3V",
        "colab_type": "code",
        "colab": {}
      },
      "cell_type": "code",
      "source": [
        "%matplotlib inline\n",
        "\n",
        "import random\n",
        "import numpy as np\n",
        "import matplotlib.pyplot as plt\n",
        "import math\n",
        "\n",
        "from mpl_toolkits import mplot3d\n",
        "\n",
        "pi = 3.1415\n",
        "\n"
      ],
      "execution_count": 0,
      "outputs": []
    },
    {
      "metadata": {
        "id": "AL3eeIrrAoJ_",
        "colab_type": "text"
      },
      "cell_type": "markdown",
      "source": [
        "# 2. Definicija Levijeve funkcije"
      ]
    },
    {
      "metadata": {
        "id": "1znWiBrCAv-n",
        "colab_type": "code",
        "colab": {}
      },
      "cell_type": "code",
      "source": [
        "def levy_function(chromosome):\n",
        "  x = chromosome[0]\n",
        "  y = chromosome[1] \n",
        "  \n",
        "  tmp1 = math.pow(math.sin(3*pi*x), 2)\n",
        "  tmp2 = math.pow((x - 1), 2) * (1 + math.pow(math.sin(3*pi*y), 2))\n",
        "  tmp3 = math.pow((y - 1), 2) * (1 + math.pow(math.sin(2*pi*y), 2))\n",
        "\n",
        "  return tmp1 + tmp2 + tmp3\n"
      ],
      "execution_count": 0,
      "outputs": []
    },
    {
      "metadata": {
        "id": "vJaGDqW56j-q",
        "colab_type": "text"
      },
      "cell_type": "markdown",
      "source": [
        "# 2.1. 3D Prikaz funkcije"
      ]
    },
    {
      "metadata": {
        "id": "u5Usj6lwCpVN",
        "colab_type": "code",
        "cellView": "both",
        "outputId": "04e5487a-34a9-449c-aa19-6f6eacf07168",
        "colab": {
          "base_uri": "https://localhost:8080/",
          "height": 248
        }
      },
      "cell_type": "code",
      "source": [
        "def l_show(x, y):\n",
        "  tmp1 = math.pow(math.sin(3*pi*x), 2)\n",
        "  tmp2 = math.pow((x - 1), 2) * (1 + math.pow(math.sin(3*pi*y), 2))\n",
        "  tmp3 = math.pow((y - 1), 2) * (1 + math.pow(math.sin(2*pi*y), 2))\n",
        "\n",
        "  return tmp1 + tmp2 + tmp3\n",
        "\n",
        "levy_vectorized = np.vectorize(l_show)\n",
        "\n",
        "x = np.linspace(-13, 13, 30)\n",
        "y = np.linspace(-13, 13, 30)\n",
        "\n",
        "X, Y = np.meshgrid(x, y)\n",
        "Z = levy_vectorized(X, Y)\n",
        "\n",
        "ax = plt.axes(projection='3d')\n",
        "ax.plot_surface(X, Y, Z, rstride=1, cstride=1,\n",
        "                cmap='plasma', edgecolor='none')\n",
        "ax.set_title('Levijeva funkcija br.13');\n",
        "\n",
        "ax.view_init(50, 35)\n",
        "\n",
        "\n"
      ],
      "execution_count": 0,
      "outputs": [
        {
          "output_type": "display_data",
          "data": {
            "image/png": "[encoded data removed]",
            "text/plain": [
              "<Figure size 432x288 with 1 Axes>"
            ]
          },
          "metadata": {
            "tags": []
          }
        }
      ]
    },
    {
      "metadata": {
        "id": "liuOBEbIIBBi",
        "colab_type": "text"
      },
      "cell_type": "markdown",
      "source": [
        "\n",
        "# 3. Funkcija za kodovanje i dekodovanje hromozoma\n"
      ]
    },
    {
      "metadata": {
        "id": "f-p9lf0FIf5P",
        "colab_type": "code",
        "colab": {}
      },
      "cell_type": "code",
      "source": [
        "\n",
        "def bin_encode(chromosome, bin_val, min_val, precision):\n",
        "  \n",
        "  ret = \"\"\n",
        "  for g in chromosome:\n",
        "    val = round((g - min_val)/bin_val)  \n",
        "    ret += bin(val)[2:].rjust(precision,'0')\n",
        "  return ret\n",
        "\n",
        "def bin_encode_chromosomes(chromosomes, precision, max_val, min_val):\n",
        "  \n",
        "  bin_val = (max_val - min_val) / (2**precision-1) \n",
        "  \n",
        "  bin_chromosomes = [ bin_encode(c, bin_val, min_val, precision) for c in chromosomes]\n",
        "  return bin_chromosomes\n",
        "\n",
        "\n",
        "\n",
        "def bin_decode(chromosome, bin_val, min_val, precision):\n",
        "\n",
        "  ret = []\n",
        "  for idx in range(0, len(chromosome), precision):\n",
        "    g = int(chromosome[idx:idx + precision], 2)\n",
        "    ret.append(g * bin_val + min_val)\n",
        "    \n",
        "  return ret\n",
        "\n",
        "def bin_decode_chromosomes(chromosomes, precision, max_val, min_val):\n",
        "  \n",
        "  bin_val = (max_val - min_val) / (2**precision-1) \n",
        "\n",
        "  bin_chromosomes = [ bin_decode(c, bin_val, min_val, precision) for c in chromosomes]\n",
        "  return bin_chromosomes\n",
        "\n",
        "\n"
      ],
      "execution_count": 0,
      "outputs": []
    },
    {
      "metadata": {
        "id": "9z1OzOS9IhAM",
        "colab_type": "text"
      },
      "cell_type": "markdown",
      "source": [
        "# 4. Funkcija za dvotačkasto ukrštanje\n",
        "Nasumično biramo dve tačke ukrštanja. Novi hromozomi (h3, h4) će biti sastavljeni od delova ulaznih hromozoma (h1, h2). I to na sledeći način:\n",
        "\n",
        "> * h3 dobija genetski materijal od h1 od početka do prve presečne tačke i od druge presečne tačke do kraja \n",
        "a genetski materijal od h2 dobija od prve do druge presečne tačke\n",
        "\n",
        "\n",
        "> * h4 dobija genetski materijal od h2 od početka do prve presečne tačke i od druge presečne tačke do kraja \n",
        "a genetski materijal od h1 dobija od prve do druge presečne tačke\n",
        "\n",
        "\n",
        "\n"
      ]
    },
    {
      "metadata": {
        "id": "H3yux1gVIhJz",
        "colab_type": "code",
        "colab": {}
      },
      "cell_type": "code",
      "source": [
        "def two_point_crossover(pairs):\n",
        "  length = len(pairs[0])\n",
        "  children = []\n",
        "  \n",
        "  for (a,b) in pairs:  \n",
        "   \n",
        "      r1 = random.randrange(0, length)\n",
        "      r2 = random.randrange(0, length)\n",
        "      \n",
        "      if r1 < r2:\n",
        "        children.append(a[:r1] + b[r1:r2] + a[r2:])\n",
        "        children.append(b[:r1] + a[r1:r2] + b[r2:])\n",
        "      else:\n",
        "        children.append(a[:r2] + b[r2:r1] + a[r1:])\n",
        "        children.append(b[:r2] + a[r2:r1] + b[r1:])\n",
        "    \n",
        "  return children  "
      ],
      "execution_count": 0,
      "outputs": []
    },
    {
      "metadata": {
        "id": "y7pmXQGXIhUP",
        "colab_type": "text"
      },
      "cell_type": "markdown",
      "source": [
        "# 5. Mutacija inverzijom\n",
        "\n",
        "Nasumično biramo dve  tačke u hromozomu i genetski materijal koji se nalazi između te dve tačke invertujemo.\n",
        "\n",
        "\n",
        "\n",
        "> primer: h = [ 1110101000 ]\n",
        "<br>nasumično izabrani indeksi: r1 = 3, r2 = 6\n",
        "<br>rezultat nakon mutacije: [1111010000]\n",
        "\n"
      ]
    },
    {
      "metadata": {
        "id": "LMj39G3iIhbf",
        "colab_type": "code",
        "colab": {}
      },
      "cell_type": "code",
      "source": [
        "def inv_mutation(chromosomes, mutation_rate):\n",
        "  mutated_chromosomes = []\n",
        "  \n",
        "  for chromosome in chromosomes:\n",
        "    \n",
        "    if random.random() < mutation_rate:\n",
        "      r1 = random.randrange(0, len(chromosome) - 1)\n",
        "      r2 = random.randrange(0, len(chromosome) - 1)\n",
        "      \n",
        "      if r1 < r2:\n",
        "        mutated_chromosomes.append(chromosome[:r1] + chromosome[r1:r2][::-1] + chromosome[r2:])\n",
        "      else:\n",
        "        mutated_chromosomes.append(chromosome[:r2] + chromosome[r2:r1][::-1] + chromosome[r1:])\n",
        "        \n",
        "    else:\n",
        "      mutated_chromosomes.append(chromosome)\n",
        "      \n",
        "\n",
        "  return mutated_chromosomes"
      ],
      "execution_count": 0,
      "outputs": []
    },
    {
      "metadata": {
        "id": "82xmJg83OUYn",
        "colab_type": "text"
      },
      "cell_type": "markdown",
      "source": [
        "# 6. Generisanje populacije\n"
      ]
    },
    {
      "metadata": {
        "id": "Z3Qnt1hHaZ7r",
        "colab_type": "code",
        "colab": {}
      },
      "cell_type": "code",
      "source": [
        "def generate_inital_chromosomes(length, max, min, pop_size):\n",
        "  return [ [random.uniform(min,max) for j in range(length)] for i in range(pop_size)]\n",
        "\n",
        "def population_stats(costs):\n",
        "  return costs[0], sum(costs)/len(costs)\n"
      ],
      "execution_count": 0,
      "outputs": []
    },
    {
      "metadata": {
        "id": "Rot7GYZIIhjl",
        "colab_type": "text"
      },
      "cell_type": "markdown",
      "source": [
        "# 7. Funkcije za rangiranje i odabir hromozoma\n",
        "\n",
        "Jedinke se rangiraju po vrednosti funkcije troška funkcijom **rank_chromosomes**.</br>\n",
        "Zatim se funkcijom **natural_selection** ostavljamo samo prvih *n_keep* jedinki.</br>\n",
        "Funkcija **pairing** uparuje roditeljske hromozome po principu najbolji i sledeći najbolji..."
      ]
    },
    {
      "metadata": {
        "id": "ujBA5vK_Ihpz",
        "colab_type": "code",
        "colab": {}
      },
      "cell_type": "code",
      "source": [
        "\n",
        "def rank_chromosomes(cost, chromosomes):\n",
        "  costs = list(map(cost, chromosomes))\n",
        "  ranked  = sorted( list(zip(chromosomes,costs)), key = lambda c:c[1])\n",
        "  \n",
        "  return list(zip(*ranked))\n",
        "\n",
        "def natural_selection(chromosomes, n_keep):\n",
        "  return chromosomes[:n_keep]\n",
        "\n",
        "def pairing(parents):\n",
        "  pairs = []\n",
        "  i = 0\n",
        "  for i in range(0, len(parents), 2):\n",
        "    pairs.append([parents[i], parents[i+1]])\n",
        "      \n",
        "  return pairs"
      ],
      "execution_count": 0,
      "outputs": []
    },
    {
      "metadata": {
        "id": "9rU0sO9QIhwm",
        "colab_type": "text"
      },
      "cell_type": "markdown",
      "source": [
        "# 8. Main loop - sklopljen genetski algoritam\n",
        "- Generišemo početnu populaciju veličine *population_size* \n",
        "- Vrtimo glavnu petlju maksimalno *max_iter* puta, svaka iteracija petlje je jedna generacija\n",
        "- Rangiramo jedinke po prilagođenosti, funkcijom **rank_chromosomes**\n",
        "- Funkcijom **natural_selection** biramo roditelje\n",
        "- Funkcijom **bin_encode_chromosomes** kodujemo celu roditeljsku populaciju\n",
        "- Funkcijom **pairing** odvajamo parove roditeljskih hromozoma koje ćemo ukrstiti\n",
        "- Metodom *dvotačkastog ukrštanja*, tj funkcijom **two_point_crossover** uparujemo roditeljske hromozome i dobijemo populaciju dece\n",
        "- Spajamo novonastale hromozome sa roditeljskim u novu populaciju *chromosomes* \n",
        "- Na ovoj populaciji vršimo *inverznu mutaciju* funkcijom **inv_mutation** sa zadatim *mutation_rate = 0.3*\n",
        "- Dekodujemo celu populaciju funkcijom **bin_decode_chromosomes**\n",
        "- Proveravamo da li populacija konvergira ili da li smo došli do optimalnog rešenja\n",
        "- Ispisujemo statistike za svaku generaciju: prosečna prilagođenost, najbolji hromozom i sastav najboljeg hromozoma"
      ]
    },
    {
      "metadata": {
        "id": "XXfAPOOUIh3R",
        "colab_type": "code",
        "colab": {}
      },
      "cell_type": "code",
      "source": [
        "def genetic(cost_func , extent, population_size, mutation_rate = 0.3, chromosome_length = 2, precision = 13, max_iter = 500):\n",
        "  \n",
        "  min_val = extent[0]\n",
        "  max_val = extent[1]\n",
        "  \n",
        "  \n",
        "  avg_list = []\n",
        "  best_list = []\n",
        "  curr_best = 10000\n",
        "  same_best_count = 0\n",
        "  \n",
        "  chromosomes = generate_inital_chromosomes(chromosome_length, max_val, min_val, population_size)\n",
        " \n",
        "  for iter in range(max_iter):\n",
        "      \n",
        "    ranked, costs = rank_chromosomes(cost_func, chromosomes) \n",
        "    \n",
        "    best, average = population_stats(costs)\n",
        "    \n",
        "    parents = natural_selection(ranked, population_size)\n",
        "    \n",
        "    parents = bin_encode_chromosomes(parents, precision, max_val, min_val)  \n",
        "    \n",
        "    pairs = pairing(parents)   \n",
        "    \n",
        "    children = two_point_crossover(pairs)\n",
        "    chromosomes = parents + children    \n",
        "    \n",
        "    chromosomes = inv_mutation(chromosomes, mutation_rate)\n",
        "\n",
        "    chromosomes = bin_decode_chromosomes(chromosomes, precision, max_val, min_val)\n",
        "    \n",
        "    \n",
        "    print(\"Generation: \",iter+1,\" Average: {:.3f}\".format(average),\" Curr best: {:.3f}\".format(best), \n",
        "          \"[X, Y] = {:.3f} {:.3f}\".format(chromosomes[0][0],chromosomes[0][1]))\n",
        "    print(\"-------------------------\")\n",
        "    \n",
        "    avg_list.append(average)\n",
        "    if best < curr_best:\n",
        "      best_list.append(best)\n",
        "      curr_best = best\n",
        "      same_best_count = 0\n",
        "    else:\n",
        "      same_best_count += 1\n",
        "      best_list.append(best)\n",
        "      \n",
        "    \n",
        "    if(cost_func(chromosomes[0]) < 0.05):\n",
        "      \n",
        "      avg_list = avg_list[:iter]\n",
        "      best_list = best_list[:iter]\n",
        "      all_avg_list.append(avg_list)\n",
        "      all_best_list.append(best_list)\n",
        "      generations_list.append(iter)\n",
        "     \n",
        "      print(\"\\nSolution found ! Chromosome content: [X, Y] = {:.3f} {:.3f}\\n\".format(chromosomes[0][0],chromosomes[0][1]))\n",
        "      return\n",
        "        \n",
        "    if same_best_count > 20:\n",
        "      print(\"\\nStopped due to convergance.Best chromosome [X, Y] = {:.3f} {:.3f}\\n\".format(chromosomes[0][0],chromosomes[0][1]))\n",
        "      \n",
        "      avg_list = avg_list[:iter]\n",
        "      best_list = best_list[:iter]\n",
        "      all_avg_list.append(avg_list)\n",
        "      all_best_list.append(best_list)\n",
        "      generations_list.append(iter)\n",
        "      \n",
        "      return\n",
        "    \n",
        "    if iter == 499:\n",
        "      avg_list = avg_list[:iter]\n",
        "      best_list = best_list[:iter]\n",
        "      all_avg_list.append(avg_list)\n",
        "      all_best_list.append(best_list)\n",
        "      generations_list.append(iter)\n",
        "      \n",
        "      print(\"\\nStopped due to max number of iterations, solution not found. Best chromosome [X, Y] = {:.3f} {:.3f}\\n\".format(chromosomes[0][0],chromosomes[0][1]))\n",
        "      \n",
        "\n",
        "   "
      ],
      "execution_count": 0,
      "outputs": []
    },
    {
      "metadata": {
        "id": "5CLeZ0oEz7QX",
        "colab_type": "text"
      },
      "cell_type": "markdown",
      "source": [
        "# 9. Iscrtavanje grafikona</br>\n",
        "Iscrtavamo prosečnu i najbolji prilagođenost za svaku generaciju."
      ]
    },
    {
      "metadata": {
        "id": "Uj5EkLRHz7h9",
        "colab_type": "code",
        "colab": {}
      },
      "cell_type": "code",
      "source": [
        "def display_stats(all_avg_list, all_best_list, generations_list):\n",
        "  \n",
        "  c = 0\n",
        "  colors = ['red', 'green', 'blue', 'yellow', 'orange']\n",
        "  \n",
        "  for average_list in all_avg_list:\n",
        "      x_axis = list(range(generations_list[c]))\n",
        "      y_axis = average_list\n",
        "      plt.plot(x_axis, y_axis, linewidth=3, color=colors[c], label=str(c + 1))\n",
        "      plt.title('Average cost function value', fontsize=19)\n",
        "      plt.xlabel('Generation', fontsize=10)\n",
        "      plt.ylabel('Cost function')\n",
        "      c += 1\n",
        "  plt.legend(loc='upper right')\n",
        "  plt.show()\n",
        "\n",
        "  c = 0\n",
        "\n",
        "  for best_list in all_best_list:\n",
        "      x_axis = list(range(generations_list[c]))\n",
        "      y_axis = best_list\n",
        "      plt.plot(x_axis, y_axis, color=colors[c], label=str(c + 1))\n",
        "      plt.title('Best cost function value', fontsize=19)\n",
        "      plt.xlabel('Generation')\n",
        "      plt.ylabel('Cost function')\n",
        "      c += 1\n",
        "  plt.legend(loc='upper right')\n",
        "  plt.show()"
      ],
      "execution_count": 0,
      "outputs": []
    },
    {
      "metadata": {
        "id": "i6ea8eLALxgt",
        "colab_type": "text"
      },
      "cell_type": "markdown",
      "source": [
        "# 10. Konfigurisanje i poziv genetskog algoritma\n",
        "\n",
        "Argumenti funkcije:\n",
        "\n",
        "\n",
        "1.   Funkcija za minimizaciju (u našem slučaju Levy_function) - *function*\n",
        "2.   Opseg u kome pretražujemo rešenje - *list*\n",
        "3.   Broj hromozoma - *int*\n",
        "\n",
        "\n",
        "---\n",
        "\n",
        "Opcioni argumenti:\n",
        "\n",
        "\n",
        "4.   Stopa mutacije - *float*\n",
        "5.   Dužina hromozoma - *int*\n",
        "6.   Na koliko decimala kodujemo X i Y - *int*\n",
        "7.   Maksimalni broj iteracija - *int*\n",
        "\n",
        "\n"
      ]
    },
    {
      "metadata": {
        "id": "aigHUlbI2Xdm",
        "colab_type": "code",
        "colab": {}
      },
      "cell_type": "code",
      "source": [
        "number_of_chromosomes = [20, 100, 150]\n",
        "all_avg_list = []\n",
        "generations_list = []\n",
        "all_best_list = []\n",
        "run_number = 5\n",
        "\n",
        "for x in number_of_chromosomes:\n",
        "  \n",
        "  print(\"==========================\")\n",
        "  \n",
        "  for k in range(0, run_number):\n",
        "    \n",
        "    print(\"\\n\", k + 1, \": run of genetic algorithm with \", x ,\" chromosomes.\\n\")    \n",
        "    genetic(levy_function, [10, -10], x)\n",
        "    \n",
        "  display_stats(all_avg_list, all_best_list, generations_list)\n",
        "  all_best_list = []\n",
        "  all_avg_list = []\n",
        "  generations_list = []\n"
      ],
      "execution_count": 0,
      "outputs": []
    }
  ]
}